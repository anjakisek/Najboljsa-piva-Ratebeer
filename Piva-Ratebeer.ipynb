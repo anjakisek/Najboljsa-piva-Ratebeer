{
 "cells": [
  {
   "cell_type": "code",
   "execution_count": 1,
   "metadata": {
    "collapsed": true
   },
   "outputs": [],
   "source": [
    "import pandas as pd"
   ]
  },
  {
   "cell_type": "code",
   "execution_count": 3,
   "metadata": {
    "collapsed": false
   },
   "outputs": [],
   "source": [
    "ocene = pd.read_csv('ocene.csv')"
   ]
  },
  {
   "cell_type": "code",
   "execution_count": 4,
   "metadata": {
    "collapsed": false
   },
   "outputs": [
    {
     "data": {
      "text/html": [
       "<div>\n",
       "<table border=\"1\" class=\"dataframe\">\n",
       "  <thead>\n",
       "    <tr style=\"text-align: right;\">\n",
       "      <th></th>\n",
       "      <th>ime</th>\n",
       "      <th>ocena</th>\n",
       "      <th>naslov</th>\n",
       "    </tr>\n",
       "  </thead>\n",
       "  <tbody>\n",
       "    <tr>\n",
       "      <th>0</th>\n",
       "      <td>Alchemist Focal Banger</td>\n",
       "      <td>4.0</td>\n",
       "      <td>/beer/alchemist-focal-banger/100846/90442/</td>\n",
       "    </tr>\n",
       "    <tr>\n",
       "      <th>1</th>\n",
       "      <td>Neshaminy Creek Punkless Dunkel Pumpkin Wheat Ale</td>\n",
       "      <td>3.6</td>\n",
       "      <td>/beer/neshaminy-creek-punkless-dunkel-pumpkin-...</td>\n",
       "    </tr>\n",
       "    <tr>\n",
       "      <th>2</th>\n",
       "      <td>Ale Asylum Ambergeddon</td>\n",
       "      <td>3.4</td>\n",
       "      <td>/beer/ale-asylum-ambergeddon/59933/127077/</td>\n",
       "    </tr>\n",
       "    <tr>\n",
       "      <th>3</th>\n",
       "      <td>G\\xc3\\xa4nstaller Br\\xc3\\xa4u Affumicator</td>\n",
       "      <td>4.0</td>\n",
       "      <td>/beer/ganstaller-brau-affumicator/106788/319802/</td>\n",
       "    </tr>\n",
       "    <tr>\n",
       "      <th>4</th>\n",
       "      <td>Millstone Cellars Hopvine</td>\n",
       "      <td>3.8</td>\n",
       "      <td>/beer/millstone-cellars-hopvine/240264/188026/</td>\n",
       "    </tr>\n",
       "    <tr>\n",
       "      <th>5</th>\n",
       "      <td>Heineken H41</td>\n",
       "      <td>2.6</td>\n",
       "      <td>/beer/heineken-h41/414917/133347/</td>\n",
       "    </tr>\n",
       "    <tr>\n",
       "      <th>6</th>\n",
       "      <td>Three Floyds Wigsplitter</td>\n",
       "      <td>3.6</td>\n",
       "      <td>/beer/three-floyds-wigsplitter/342218/188026/</td>\n",
       "    </tr>\n",
       "    <tr>\n",
       "      <th>7</th>\n",
       "      <td>Boombox / Machine Pablo Esco Gnar</td>\n",
       "      <td>4.0</td>\n",
       "      <td>/beer/boombox--machine-pablo-esco-gnar/454620/...</td>\n",
       "    </tr>\n",
       "    <tr>\n",
       "      <th>8</th>\n",
       "      <td>Beavertown Skull King</td>\n",
       "      <td>3.3</td>\n",
       "      <td>/beer/beavertown-skull-king/329934/125872/</td>\n",
       "    </tr>\n",
       "    <tr>\n",
       "      <th>9</th>\n",
       "      <td>Alchemist Focal Banger</td>\n",
       "      <td>3.9</td>\n",
       "      <td>/beer/alchemist-focal-banger/100846/141261/</td>\n",
       "    </tr>\n",
       "  </tbody>\n",
       "</table>\n",
       "</div>"
      ],
      "text/plain": [
       "                                                 ime  ocena  \\\n",
       "0                             Alchemist Focal Banger    4.0   \n",
       "1  Neshaminy Creek Punkless Dunkel Pumpkin Wheat Ale    3.6   \n",
       "2                             Ale Asylum Ambergeddon    3.4   \n",
       "3          G\\xc3\\xa4nstaller Br\\xc3\\xa4u Affumicator    4.0   \n",
       "4                          Millstone Cellars Hopvine    3.8   \n",
       "5                                       Heineken H41    2.6   \n",
       "6                           Three Floyds Wigsplitter    3.6   \n",
       "7                  Boombox / Machine Pablo Esco Gnar    4.0   \n",
       "8                              Beavertown Skull King    3.3   \n",
       "9                             Alchemist Focal Banger    3.9   \n",
       "\n",
       "                                              naslov  \n",
       "0         /beer/alchemist-focal-banger/100846/90442/  \n",
       "1  /beer/neshaminy-creek-punkless-dunkel-pumpkin-...  \n",
       "2         /beer/ale-asylum-ambergeddon/59933/127077/  \n",
       "3   /beer/ganstaller-brau-affumicator/106788/319802/  \n",
       "4     /beer/millstone-cellars-hopvine/240264/188026/  \n",
       "5                  /beer/heineken-h41/414917/133347/  \n",
       "6      /beer/three-floyds-wigsplitter/342218/188026/  \n",
       "7  /beer/boombox--machine-pablo-esco-gnar/454620/...  \n",
       "8         /beer/beavertown-skull-king/329934/125872/  \n",
       "9        /beer/alchemist-focal-banger/100846/141261/  "
      ]
     },
     "execution_count": 4,
     "metadata": {},
     "output_type": "execute_result"
    }
   ],
   "source": [
    "ocene.head(10)"
   ]
  },
  {
   "cell_type": "code",
   "execution_count": null,
   "metadata": {
    "collapsed": true
   },
   "outputs": [],
   "source": []
  }
 ],
 "metadata": {
  "kernelspec": {
   "display_name": "Python 3",
   "language": "python",
   "name": "python3"
  },
  "language_info": {
   "codemirror_mode": {
    "name": "ipython",
    "version": 3
   },
   "file_extension": ".py",
   "mimetype": "text/x-python",
   "name": "python",
   "nbconvert_exporter": "python",
   "pygments_lexer": "ipython3",
   "version": "3.5.1"
  }
 },
 "nbformat": 4,
 "nbformat_minor": 1
}
